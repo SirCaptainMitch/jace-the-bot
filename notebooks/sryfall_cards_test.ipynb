{
 "cells": [
  {
   "cell_type": "code",
   "id": "initial_id",
   "metadata": {
    "collapsed": true,
    "ExecuteTime": {
     "end_time": "2024-12-08T17:19:45.064731Z",
     "start_time": "2024-12-08T17:19:42.779998Z"
    }
   },
   "source": [
    "from src.scryfall.main import Scryfall\n",
    "from src.jace.database import * \n"
   ],
   "outputs": [],
   "execution_count": 1
  },
  {
   "metadata": {
    "ExecuteTime": {
     "end_time": "2024-12-05T14:00:57.763902Z",
     "start_time": "2024-12-05T14:00:57.760425Z"
    }
   },
   "cell_type": "code",
   "source": "scryfall = Scryfall()\n",
   "id": "f59e2de18b2bcd3b",
   "outputs": [],
   "execution_count": 2
  },
  {
   "metadata": {
    "ExecuteTime": {
     "end_time": "2024-12-05T14:01:09.948994Z",
     "start_time": "2024-12-05T14:01:09.943850Z"
    }
   },
   "cell_type": "code",
   "source": "scryfall.cache_dir",
   "id": "f8ab85b709453801",
   "outputs": [
    {
     "data": {
      "text/plain": [
       "'./.cache'"
      ]
     },
     "execution_count": 4,
     "metadata": {},
     "output_type": "execute_result"
    }
   ],
   "execution_count": 4
  },
  {
   "metadata": {
    "ExecuteTime": {
     "end_time": "2024-12-05T14:02:33.519851Z",
     "start_time": "2024-12-05T14:02:11.278215Z"
    }
   },
   "cell_type": "code",
   "source": [
    "scryfall.generate_catalogs()\n",
    "scryfall.generate_rulings()\n",
    "scryfall.generate_oracle_cards()\n"
   ],
   "id": "dae1faa39e07d682",
   "outputs": [
    {
     "name": "stdout",
     "output_type": "stream",
     "text": [
      ".cache\\catalogs\\card_names_20241205.json\n",
      ".cache\\catalogs\\artist_names_20241205.json\n",
      ".cache\\catalogs\\word_bank_20241205.json\n",
      ".cache\\catalogs\\creature_types_20241205.json\n",
      ".cache\\catalogs\\planeswalker_types_20241205.json\n",
      ".cache\\catalogs\\land_types_20241205.json\n",
      ".cache\\catalogs\\artifact_types_20241205.json\n",
      ".cache\\catalogs\\enchantment_types_20241205.json\n",
      ".cache\\catalogs\\spell_types_20241205.json\n",
      ".cache\\catalogs\\powers_20241205.json\n",
      ".cache\\catalogs\\toughnesses_20241205.json\n",
      ".cache\\catalogs\\loyalties_20241205.json\n",
      ".cache\\catalogs\\watermarks_20241205.json\n",
      ".cache\\catalogs\\keyword_abilities_20241205.json\n",
      ".cache\\catalogs\\keyword_actions_20241205.json\n",
      ".cache\\catalogs\\ability_words_20241205.json\n",
      ".cache\\rulings_20241205.json\n",
      ".cache\\oracle_cards_20241205.json\n"
     ]
    }
   ],
   "execution_count": 5
  },
  {
   "metadata": {
    "ExecuteTime": {
     "end_time": "2024-12-08T17:23:19.999070Z",
     "start_time": "2024-12-08T17:20:42.010297Z"
    }
   },
   "cell_type": "code",
   "source": "generate_data_cache()",
   "id": "384890d6e83ac91",
   "outputs": [],
   "execution_count": 2
  },
  {
   "metadata": {
    "ExecuteTime": {
     "end_time": "2024-12-08T17:29:45.450246Z",
     "start_time": "2024-12-08T17:29:45.445062Z"
    }
   },
   "cell_type": "code",
   "source": [
    "from src.scryfall.config import catalog_endpoints\n",
    "\n",
    " for idx, n in enumerate(catalog_endpoints):\n",
    "     "
   ],
   "id": "67fa679919a0a76f",
   "outputs": [
    {
     "data": {
      "text/plain": [
       "['card-names',\n",
       " 'artist-names',\n",
       " 'word-bank',\n",
       " 'creature-types',\n",
       " 'planeswalker-types',\n",
       " 'land-types',\n",
       " 'artifact-types',\n",
       " 'enchantment-types',\n",
       " 'spell-types',\n",
       " 'powers',\n",
       " 'toughnesses',\n",
       " 'loyalties',\n",
       " 'watermarks',\n",
       " 'keyword-abilities',\n",
       " 'keyword-actions',\n",
       " 'ability-words']"
      ]
     },
     "execution_count": 4,
     "metadata": {},
     "output_type": "execute_result"
    }
   ],
   "execution_count": 4
  },
  {
   "metadata": {
    "ExecuteTime": {
     "end_time": "2024-12-08T17:33:20.657784Z",
     "start_time": "2024-12-08T17:33:19.975773Z"
    }
   },
   "cell_type": "code",
   "source": "generate_catalog_table(table='card-names')",
   "id": "849d9907d94d7f9e",
   "outputs": [
    {
     "data": {
      "text/plain": [
       "name    30820\n",
       "dtype: int64"
      ]
     },
     "execution_count": 5,
     "metadata": {},
     "output_type": "execute_result"
    }
   ],
   "execution_count": 5
  },
  {
   "metadata": {
    "ExecuteTime": {
     "end_time": "2024-12-08T17:36:57.159008Z",
     "start_time": "2024-12-08T17:36:57.144998Z"
    }
   },
   "cell_type": "code",
   "source": [
    "card_names = '../notebooks/.cache/catalogs/card_names_20241205.json'\n",
    "\n",
    "df = pd.read_json(card_names, orient='records')\n",
    "\n",
    "df.head()"
   ],
   "id": "607da0fe077a06aa",
   "outputs": [
    {
     "data": {
      "text/plain": [
       "                                0\n",
       "0               \"Ach! Hans, Run!\"\n",
       "1  \"Brims\" Barone, Midway Mobster\n",
       "2          \"Lifetime\" Pass Holder\n",
       "3           \"Name Sticker\" Goblin\n",
       "4      \"Rumors of My Death . . .\""
      ],
      "text/html": [
       "<div>\n",
       "<style scoped>\n",
       "    .dataframe tbody tr th:only-of-type {\n",
       "        vertical-align: middle;\n",
       "    }\n",
       "\n",
       "    .dataframe tbody tr th {\n",
       "        vertical-align: top;\n",
       "    }\n",
       "\n",
       "    .dataframe thead th {\n",
       "        text-align: right;\n",
       "    }\n",
       "</style>\n",
       "<table border=\"1\" class=\"dataframe\">\n",
       "  <thead>\n",
       "    <tr style=\"text-align: right;\">\n",
       "      <th></th>\n",
       "      <th>0</th>\n",
       "    </tr>\n",
       "  </thead>\n",
       "  <tbody>\n",
       "    <tr>\n",
       "      <th>0</th>\n",
       "      <td>\"Ach! Hans, Run!\"</td>\n",
       "    </tr>\n",
       "    <tr>\n",
       "      <th>1</th>\n",
       "      <td>\"Brims\" Barone, Midway Mobster</td>\n",
       "    </tr>\n",
       "    <tr>\n",
       "      <th>2</th>\n",
       "      <td>\"Lifetime\" Pass Holder</td>\n",
       "    </tr>\n",
       "    <tr>\n",
       "      <th>3</th>\n",
       "      <td>\"Name Sticker\" Goblin</td>\n",
       "    </tr>\n",
       "    <tr>\n",
       "      <th>4</th>\n",
       "      <td>\"Rumors of My Death . . .\"</td>\n",
       "    </tr>\n",
       "  </tbody>\n",
       "</table>\n",
       "</div>"
      ]
     },
     "execution_count": 8,
     "metadata": {},
     "output_type": "execute_result"
    }
   ],
   "execution_count": 8
  },
  {
   "metadata": {
    "ExecuteTime": {
     "end_time": "2024-12-08T17:39:32.436764Z",
     "start_time": "2024-12-08T17:38:59.036781Z"
    }
   },
   "cell_type": "code",
   "source": [
    "card_names = '../notebooks/.cache/jace_all_cards.json'\n",
    "\n",
    "df = pd.read_json(card_names, orient='records')\n",
    "\n",
    "df.head()"
   ],
   "id": "a901d768f6bbf6db",
   "outputs": [
    {
     "data": {
      "text/plain": [
       "  object                                    id  \\\n",
       "0   card  0000419b-0bba-4488-8f7a-6194544ce91e   \n",
       "1   card  0000579f-7b35-4ed3-b44c-db2a538066fe   \n",
       "2   card  00006596-1166-4a79-8443-ca9f82e6db4e   \n",
       "3   card  00009878-d086-46f0-a964-15734d8368ac   \n",
       "4   card  0000a54c-a511-4925-92dc-01b937f9afad   \n",
       "\n",
       "                              oracle_id multiverse_ids   mtgo_id  arena_id  \\\n",
       "0  b34bb2dc-c1af-4d77-b0b3-a0fb342a5fc6       [668564]  129825.0   91829.0   \n",
       "1  44623693-51d6-49ad-8cd7-140505caf02f       [109722]   25527.0       NaN   \n",
       "2  8ae3562f-28b7-4462-96ed-be0cf7052ccc       [189637]   34586.0       NaN   \n",
       "3  30cd69a8-7893-4075-94ca-04450ff821d3       [433932]       NaN       NaN   \n",
       "4  dc4e2134-f0c2-49aa-9ea3-ebf83af1445c             []       NaN       NaN   \n",
       "\n",
       "   tcgplayer_id                  name lang released_at  ... preview  \\\n",
       "0      558404.0                Forest   en  2024-08-02  ...     NaN   \n",
       "1       14240.0           Fury Sliver   en  2006-10-06  ...     NaN   \n",
       "2       33347.0         Kor Outfitter   en  2009-10-02  ...     NaN   \n",
       "3           NaN  Spirit of the Hearth   fr  2017-08-25  ...     NaN   \n",
       "4       98659.0                Spirit   en  2015-05-22  ...     NaN   \n",
       "\n",
       "  color_indicator tcgplayer_etched_id  content_warning flavor_name  \\\n",
       "0             NaN                 NaN              NaN         NaN   \n",
       "1             NaN                 NaN              NaN         NaN   \n",
       "2             NaN                 NaN              NaN         NaN   \n",
       "3             NaN                 NaN              NaN         NaN   \n",
       "4             NaN                 NaN              NaN         NaN   \n",
       "\n",
       "  attraction_lights variation_of  life_modifier hand_modifier defense  \n",
       "0               NaN          NaN            NaN           NaN     NaN  \n",
       "1               NaN          NaN            NaN           NaN     NaN  \n",
       "2               NaN          NaN            NaN           NaN     NaN  \n",
       "3               NaN          NaN            NaN           NaN     NaN  \n",
       "4               NaN          NaN            NaN           NaN     NaN  \n",
       "\n",
       "[5 rows x 86 columns]"
      ],
      "text/html": [
       "<div>\n",
       "<style scoped>\n",
       "    .dataframe tbody tr th:only-of-type {\n",
       "        vertical-align: middle;\n",
       "    }\n",
       "\n",
       "    .dataframe tbody tr th {\n",
       "        vertical-align: top;\n",
       "    }\n",
       "\n",
       "    .dataframe thead th {\n",
       "        text-align: right;\n",
       "    }\n",
       "</style>\n",
       "<table border=\"1\" class=\"dataframe\">\n",
       "  <thead>\n",
       "    <tr style=\"text-align: right;\">\n",
       "      <th></th>\n",
       "      <th>object</th>\n",
       "      <th>id</th>\n",
       "      <th>oracle_id</th>\n",
       "      <th>multiverse_ids</th>\n",
       "      <th>mtgo_id</th>\n",
       "      <th>arena_id</th>\n",
       "      <th>tcgplayer_id</th>\n",
       "      <th>name</th>\n",
       "      <th>lang</th>\n",
       "      <th>released_at</th>\n",
       "      <th>...</th>\n",
       "      <th>preview</th>\n",
       "      <th>color_indicator</th>\n",
       "      <th>tcgplayer_etched_id</th>\n",
       "      <th>content_warning</th>\n",
       "      <th>flavor_name</th>\n",
       "      <th>attraction_lights</th>\n",
       "      <th>variation_of</th>\n",
       "      <th>life_modifier</th>\n",
       "      <th>hand_modifier</th>\n",
       "      <th>defense</th>\n",
       "    </tr>\n",
       "  </thead>\n",
       "  <tbody>\n",
       "    <tr>\n",
       "      <th>0</th>\n",
       "      <td>card</td>\n",
       "      <td>0000419b-0bba-4488-8f7a-6194544ce91e</td>\n",
       "      <td>b34bb2dc-c1af-4d77-b0b3-a0fb342a5fc6</td>\n",
       "      <td>[668564]</td>\n",
       "      <td>129825.0</td>\n",
       "      <td>91829.0</td>\n",
       "      <td>558404.0</td>\n",
       "      <td>Forest</td>\n",
       "      <td>en</td>\n",
       "      <td>2024-08-02</td>\n",
       "      <td>...</td>\n",
       "      <td>NaN</td>\n",
       "      <td>NaN</td>\n",
       "      <td>NaN</td>\n",
       "      <td>NaN</td>\n",
       "      <td>NaN</td>\n",
       "      <td>NaN</td>\n",
       "      <td>NaN</td>\n",
       "      <td>NaN</td>\n",
       "      <td>NaN</td>\n",
       "      <td>NaN</td>\n",
       "    </tr>\n",
       "    <tr>\n",
       "      <th>1</th>\n",
       "      <td>card</td>\n",
       "      <td>0000579f-7b35-4ed3-b44c-db2a538066fe</td>\n",
       "      <td>44623693-51d6-49ad-8cd7-140505caf02f</td>\n",
       "      <td>[109722]</td>\n",
       "      <td>25527.0</td>\n",
       "      <td>NaN</td>\n",
       "      <td>14240.0</td>\n",
       "      <td>Fury Sliver</td>\n",
       "      <td>en</td>\n",
       "      <td>2006-10-06</td>\n",
       "      <td>...</td>\n",
       "      <td>NaN</td>\n",
       "      <td>NaN</td>\n",
       "      <td>NaN</td>\n",
       "      <td>NaN</td>\n",
       "      <td>NaN</td>\n",
       "      <td>NaN</td>\n",
       "      <td>NaN</td>\n",
       "      <td>NaN</td>\n",
       "      <td>NaN</td>\n",
       "      <td>NaN</td>\n",
       "    </tr>\n",
       "    <tr>\n",
       "      <th>2</th>\n",
       "      <td>card</td>\n",
       "      <td>00006596-1166-4a79-8443-ca9f82e6db4e</td>\n",
       "      <td>8ae3562f-28b7-4462-96ed-be0cf7052ccc</td>\n",
       "      <td>[189637]</td>\n",
       "      <td>34586.0</td>\n",
       "      <td>NaN</td>\n",
       "      <td>33347.0</td>\n",
       "      <td>Kor Outfitter</td>\n",
       "      <td>en</td>\n",
       "      <td>2009-10-02</td>\n",
       "      <td>...</td>\n",
       "      <td>NaN</td>\n",
       "      <td>NaN</td>\n",
       "      <td>NaN</td>\n",
       "      <td>NaN</td>\n",
       "      <td>NaN</td>\n",
       "      <td>NaN</td>\n",
       "      <td>NaN</td>\n",
       "      <td>NaN</td>\n",
       "      <td>NaN</td>\n",
       "      <td>NaN</td>\n",
       "    </tr>\n",
       "    <tr>\n",
       "      <th>3</th>\n",
       "      <td>card</td>\n",
       "      <td>00009878-d086-46f0-a964-15734d8368ac</td>\n",
       "      <td>30cd69a8-7893-4075-94ca-04450ff821d3</td>\n",
       "      <td>[433932]</td>\n",
       "      <td>NaN</td>\n",
       "      <td>NaN</td>\n",
       "      <td>NaN</td>\n",
       "      <td>Spirit of the Hearth</td>\n",
       "      <td>fr</td>\n",
       "      <td>2017-08-25</td>\n",
       "      <td>...</td>\n",
       "      <td>NaN</td>\n",
       "      <td>NaN</td>\n",
       "      <td>NaN</td>\n",
       "      <td>NaN</td>\n",
       "      <td>NaN</td>\n",
       "      <td>NaN</td>\n",
       "      <td>NaN</td>\n",
       "      <td>NaN</td>\n",
       "      <td>NaN</td>\n",
       "      <td>NaN</td>\n",
       "    </tr>\n",
       "    <tr>\n",
       "      <th>4</th>\n",
       "      <td>card</td>\n",
       "      <td>0000a54c-a511-4925-92dc-01b937f9afad</td>\n",
       "      <td>dc4e2134-f0c2-49aa-9ea3-ebf83af1445c</td>\n",
       "      <td>[]</td>\n",
       "      <td>NaN</td>\n",
       "      <td>NaN</td>\n",
       "      <td>98659.0</td>\n",
       "      <td>Spirit</td>\n",
       "      <td>en</td>\n",
       "      <td>2015-05-22</td>\n",
       "      <td>...</td>\n",
       "      <td>NaN</td>\n",
       "      <td>NaN</td>\n",
       "      <td>NaN</td>\n",
       "      <td>NaN</td>\n",
       "      <td>NaN</td>\n",
       "      <td>NaN</td>\n",
       "      <td>NaN</td>\n",
       "      <td>NaN</td>\n",
       "      <td>NaN</td>\n",
       "      <td>NaN</td>\n",
       "    </tr>\n",
       "  </tbody>\n",
       "</table>\n",
       "<p>5 rows × 86 columns</p>\n",
       "</div>"
      ]
     },
     "execution_count": 9,
     "metadata": {},
     "output_type": "execute_result"
    }
   ],
   "execution_count": 9
  },
  {
   "metadata": {
    "ExecuteTime": {
     "end_time": "2024-12-08T17:41:22.399356Z",
     "start_time": "2024-12-08T17:41:22.393835Z"
    }
   },
   "cell_type": "code",
   "source": "df.columns",
   "id": "5e2c52e70ace3d2d",
   "outputs": [
    {
     "data": {
      "text/plain": [
       "Index(['object', 'id', 'oracle_id', 'multiverse_ids', 'mtgo_id', 'arena_id',\n",
       "       'tcgplayer_id', 'name', 'lang', 'released_at', 'uri', 'scryfall_uri',\n",
       "       'layout', 'highres_image', 'image_status', 'image_uris', 'mana_cost',\n",
       "       'cmc', 'type_line', 'oracle_text', 'colors', 'color_identity',\n",
       "       'keywords', 'produced_mana', 'legalities', 'games', 'reserved', 'foil',\n",
       "       'nonfoil', 'finishes', 'oversized', 'promo', 'reprint', 'variation',\n",
       "       'set_id', 'set', 'set_name', 'set_type', 'set_uri', 'set_search_uri',\n",
       "       'scryfall_set_uri', 'rulings_uri', 'prints_search_uri',\n",
       "       'collector_number', 'digital', 'rarity', 'card_back_id', 'artist',\n",
       "       'artist_ids', 'illustration_id', 'border_color', 'frame', 'full_art',\n",
       "       'textless', 'booster', 'story_spotlight', 'prices', 'related_uris',\n",
       "       'purchase_uris', 'mtgo_foil_id', 'cardmarket_id', 'power', 'toughness',\n",
       "       'flavor_text', 'edhrec_rank', 'penny_rank', 'printed_name',\n",
       "       'printed_type_line', 'printed_text', 'security_stamp', 'all_parts',\n",
       "       'promo_types', 'loyalty', 'watermark', 'frame_effects', 'card_faces',\n",
       "       'preview', 'color_indicator', 'tcgplayer_etched_id', 'content_warning',\n",
       "       'flavor_name', 'attraction_lights', 'variation_of', 'life_modifier',\n",
       "       'hand_modifier', 'defense'],\n",
       "      dtype='object')"
      ]
     },
     "execution_count": 10,
     "metadata": {},
     "output_type": "execute_result"
    }
   ],
   "execution_count": 10
  },
  {
   "metadata": {
    "ExecuteTime": {
     "end_time": "2024-12-08T18:10:17.744798Z",
     "start_time": "2024-12-08T18:10:14.808358Z"
    }
   },
   "cell_type": "code",
   "source": [
    "card_names = '../notebooks/.cache/jace_oracle_cards.json'\n",
    "\n",
    "df = pd.read_json(card_names, orient='records')\n",
    "\n",
    "df.head()"
   ],
   "id": "203d00e10d37d04e",
   "outputs": [
    {
     "data": {
      "text/plain": [
       "  object                                    id  \\\n",
       "0   card  86bf43b1-8d4e-4759-bb2d-0b2e03ba7012   \n",
       "1   card  7050735c-b232-47a6-a342-01795bfd0d46   \n",
       "2   card  e718b21b-46d1-4844-985c-52745657b1ac   \n",
       "3   card  036ef8c9-72ac-46ce-af07-83b79d736538   \n",
       "4   card  6010d06b-33b6-4631-9b3f-192d8c6b96e7   \n",
       "\n",
       "                              oracle_id multiverse_ids  mtgo_id  mtgo_foil_id  \\\n",
       "0  0004ebd0-dfd6-4276-b4a6-de0003e94237        [15862]  15870.0       15871.0   \n",
       "1  0006faf6-7a61-426c-9034-579f2cfcfa83       [370780]  49283.0       49284.0   \n",
       "2  0007c283-5b7a-4c00-9ca1-b455c8dff8c3       [470580]  77122.0           NaN   \n",
       "3  000d5588-5a4c-434e-988d-396632ade42c        [83282]  22609.0       22610.0   \n",
       "4  000d8291-d6a8-436e-9e17-7531333686a8             []      NaN           NaN   \n",
       "\n",
       "   tcgplayer_id  cardmarket_id                 name lang  ... watermark  \\\n",
       "0        3094.0         3081.0           Static Orb   en  ...       NaN   \n",
       "1       69965.0       262945.0  Sensory Deprivation   en  ...       NaN   \n",
       "2      196536.0       391692.0       Road of Return   en  ...       NaN   \n",
       "3       12835.0        12551.0           Storm Crow   en  ...       NaN   \n",
       "4           NaN            NaN     Snarlfang Vermin   en  ...       NaN   \n",
       "\n",
       "  card_faces tcgplayer_etched_id loyalty  life_modifier hand_modifier  \\\n",
       "0        NaN                 NaN     NaN            NaN           NaN   \n",
       "1        NaN                 NaN     NaN            NaN           NaN   \n",
       "2        NaN                 NaN     NaN            NaN           NaN   \n",
       "3        NaN                 NaN     NaN            NaN           NaN   \n",
       "4        NaN                 NaN     NaN            NaN           NaN   \n",
       "\n",
       "  attraction_lights color_indicator  content_warning defense  \n",
       "0               NaN             NaN              NaN     NaN  \n",
       "1               NaN             NaN              NaN     NaN  \n",
       "2               NaN             NaN              NaN     NaN  \n",
       "3               NaN             NaN              NaN     NaN  \n",
       "4               NaN             NaN              NaN     NaN  \n",
       "\n",
       "[5 rows x 81 columns]"
      ],
      "text/html": [
       "<div>\n",
       "<style scoped>\n",
       "    .dataframe tbody tr th:only-of-type {\n",
       "        vertical-align: middle;\n",
       "    }\n",
       "\n",
       "    .dataframe tbody tr th {\n",
       "        vertical-align: top;\n",
       "    }\n",
       "\n",
       "    .dataframe thead th {\n",
       "        text-align: right;\n",
       "    }\n",
       "</style>\n",
       "<table border=\"1\" class=\"dataframe\">\n",
       "  <thead>\n",
       "    <tr style=\"text-align: right;\">\n",
       "      <th></th>\n",
       "      <th>object</th>\n",
       "      <th>id</th>\n",
       "      <th>oracle_id</th>\n",
       "      <th>multiverse_ids</th>\n",
       "      <th>mtgo_id</th>\n",
       "      <th>mtgo_foil_id</th>\n",
       "      <th>tcgplayer_id</th>\n",
       "      <th>cardmarket_id</th>\n",
       "      <th>name</th>\n",
       "      <th>lang</th>\n",
       "      <th>...</th>\n",
       "      <th>watermark</th>\n",
       "      <th>card_faces</th>\n",
       "      <th>tcgplayer_etched_id</th>\n",
       "      <th>loyalty</th>\n",
       "      <th>life_modifier</th>\n",
       "      <th>hand_modifier</th>\n",
       "      <th>attraction_lights</th>\n",
       "      <th>color_indicator</th>\n",
       "      <th>content_warning</th>\n",
       "      <th>defense</th>\n",
       "    </tr>\n",
       "  </thead>\n",
       "  <tbody>\n",
       "    <tr>\n",
       "      <th>0</th>\n",
       "      <td>card</td>\n",
       "      <td>86bf43b1-8d4e-4759-bb2d-0b2e03ba7012</td>\n",
       "      <td>0004ebd0-dfd6-4276-b4a6-de0003e94237</td>\n",
       "      <td>[15862]</td>\n",
       "      <td>15870.0</td>\n",
       "      <td>15871.0</td>\n",
       "      <td>3094.0</td>\n",
       "      <td>3081.0</td>\n",
       "      <td>Static Orb</td>\n",
       "      <td>en</td>\n",
       "      <td>...</td>\n",
       "      <td>NaN</td>\n",
       "      <td>NaN</td>\n",
       "      <td>NaN</td>\n",
       "      <td>NaN</td>\n",
       "      <td>NaN</td>\n",
       "      <td>NaN</td>\n",
       "      <td>NaN</td>\n",
       "      <td>NaN</td>\n",
       "      <td>NaN</td>\n",
       "      <td>NaN</td>\n",
       "    </tr>\n",
       "    <tr>\n",
       "      <th>1</th>\n",
       "      <td>card</td>\n",
       "      <td>7050735c-b232-47a6-a342-01795bfd0d46</td>\n",
       "      <td>0006faf6-7a61-426c-9034-579f2cfcfa83</td>\n",
       "      <td>[370780]</td>\n",
       "      <td>49283.0</td>\n",
       "      <td>49284.0</td>\n",
       "      <td>69965.0</td>\n",
       "      <td>262945.0</td>\n",
       "      <td>Sensory Deprivation</td>\n",
       "      <td>en</td>\n",
       "      <td>...</td>\n",
       "      <td>NaN</td>\n",
       "      <td>NaN</td>\n",
       "      <td>NaN</td>\n",
       "      <td>NaN</td>\n",
       "      <td>NaN</td>\n",
       "      <td>NaN</td>\n",
       "      <td>NaN</td>\n",
       "      <td>NaN</td>\n",
       "      <td>NaN</td>\n",
       "      <td>NaN</td>\n",
       "    </tr>\n",
       "    <tr>\n",
       "      <th>2</th>\n",
       "      <td>card</td>\n",
       "      <td>e718b21b-46d1-4844-985c-52745657b1ac</td>\n",
       "      <td>0007c283-5b7a-4c00-9ca1-b455c8dff8c3</td>\n",
       "      <td>[470580]</td>\n",
       "      <td>77122.0</td>\n",
       "      <td>NaN</td>\n",
       "      <td>196536.0</td>\n",
       "      <td>391692.0</td>\n",
       "      <td>Road of Return</td>\n",
       "      <td>en</td>\n",
       "      <td>...</td>\n",
       "      <td>NaN</td>\n",
       "      <td>NaN</td>\n",
       "      <td>NaN</td>\n",
       "      <td>NaN</td>\n",
       "      <td>NaN</td>\n",
       "      <td>NaN</td>\n",
       "      <td>NaN</td>\n",
       "      <td>NaN</td>\n",
       "      <td>NaN</td>\n",
       "      <td>NaN</td>\n",
       "    </tr>\n",
       "    <tr>\n",
       "      <th>3</th>\n",
       "      <td>card</td>\n",
       "      <td>036ef8c9-72ac-46ce-af07-83b79d736538</td>\n",
       "      <td>000d5588-5a4c-434e-988d-396632ade42c</td>\n",
       "      <td>[83282]</td>\n",
       "      <td>22609.0</td>\n",
       "      <td>22610.0</td>\n",
       "      <td>12835.0</td>\n",
       "      <td>12551.0</td>\n",
       "      <td>Storm Crow</td>\n",
       "      <td>en</td>\n",
       "      <td>...</td>\n",
       "      <td>NaN</td>\n",
       "      <td>NaN</td>\n",
       "      <td>NaN</td>\n",
       "      <td>NaN</td>\n",
       "      <td>NaN</td>\n",
       "      <td>NaN</td>\n",
       "      <td>NaN</td>\n",
       "      <td>NaN</td>\n",
       "      <td>NaN</td>\n",
       "      <td>NaN</td>\n",
       "    </tr>\n",
       "    <tr>\n",
       "      <th>4</th>\n",
       "      <td>card</td>\n",
       "      <td>6010d06b-33b6-4631-9b3f-192d8c6b96e7</td>\n",
       "      <td>000d8291-d6a8-436e-9e17-7531333686a8</td>\n",
       "      <td>[]</td>\n",
       "      <td>NaN</td>\n",
       "      <td>NaN</td>\n",
       "      <td>NaN</td>\n",
       "      <td>NaN</td>\n",
       "      <td>Snarlfang Vermin</td>\n",
       "      <td>en</td>\n",
       "      <td>...</td>\n",
       "      <td>NaN</td>\n",
       "      <td>NaN</td>\n",
       "      <td>NaN</td>\n",
       "      <td>NaN</td>\n",
       "      <td>NaN</td>\n",
       "      <td>NaN</td>\n",
       "      <td>NaN</td>\n",
       "      <td>NaN</td>\n",
       "      <td>NaN</td>\n",
       "      <td>NaN</td>\n",
       "    </tr>\n",
       "  </tbody>\n",
       "</table>\n",
       "<p>5 rows × 81 columns</p>\n",
       "</div>"
      ]
     },
     "execution_count": 11,
     "metadata": {},
     "output_type": "execute_result"
    }
   ],
   "execution_count": 11
  },
  {
   "metadata": {
    "ExecuteTime": {
     "end_time": "2024-12-08T18:11:30.942389Z",
     "start_time": "2024-12-08T18:11:30.776673Z"
    }
   },
   "cell_type": "code",
   "source": "print(df.count())",
   "id": "746ba463374be419",
   "outputs": [
    {
     "name": "stdout",
     "output_type": "stream",
     "text": [
      "object               33627\n",
      "id                   33627\n",
      "oracle_id            33627\n",
      "multiverse_ids       33627\n",
      "mtgo_id              24625\n",
      "                     ...  \n",
      "hand_modifier          107\n",
      "attraction_lights       50\n",
      "color_indicator         41\n",
      "content_warning          7\n",
      "defense                  1\n",
      "Length: 81, dtype: int64\n"
     ]
    }
   ],
   "execution_count": 12
  },
  {
   "metadata": {},
   "cell_type": "code",
   "outputs": [],
   "execution_count": null,
   "source": "",
   "id": "635b9274d812623e"
  }
 ],
 "metadata": {
  "kernelspec": {
   "display_name": "Python 3",
   "language": "python",
   "name": "python3"
  },
  "language_info": {
   "codemirror_mode": {
    "name": "ipython",
    "version": 2
   },
   "file_extension": ".py",
   "mimetype": "text/x-python",
   "name": "python",
   "nbconvert_exporter": "python",
   "pygments_lexer": "ipython2",
   "version": "2.7.6"
  }
 },
 "nbformat": 4,
 "nbformat_minor": 5
}

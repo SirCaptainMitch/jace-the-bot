{
 "cells": [
  {
   "cell_type": "code",
   "id": "initial_id",
   "metadata": {
    "collapsed": true,
    "ExecuteTime": {
     "end_time": "2024-12-05T14:00:57.757419Z",
     "start_time": "2024-12-05T14:00:55.455949Z"
    }
   },
   "source": [
    "import pandas as pd  \n",
    "from src.scryfall.main import Scryfall\n",
    "from src.scryfall.config import DEFAULT_CACHE_DIRECTORY\n"
   ],
   "outputs": [],
   "execution_count": 1
  },
  {
   "metadata": {
    "ExecuteTime": {
     "end_time": "2024-12-05T14:00:57.763902Z",
     "start_time": "2024-12-05T14:00:57.760425Z"
    }
   },
   "cell_type": "code",
   "source": "scryfall = Scryfall()\n",
   "id": "f59e2de18b2bcd3b",
   "outputs": [],
   "execution_count": 2
  },
  {
   "metadata": {
    "ExecuteTime": {
     "end_time": "2024-12-05T14:01:09.948994Z",
     "start_time": "2024-12-05T14:01:09.943850Z"
    }
   },
   "cell_type": "code",
   "source": "scryfall.cache_dir",
   "id": "f8ab85b709453801",
   "outputs": [
    {
     "data": {
      "text/plain": [
       "'./.cache'"
      ]
     },
     "execution_count": 4,
     "metadata": {},
     "output_type": "execute_result"
    }
   ],
   "execution_count": 4
  },
  {
   "metadata": {
    "ExecuteTime": {
     "end_time": "2024-12-05T14:02:33.519851Z",
     "start_time": "2024-12-05T14:02:11.278215Z"
    }
   },
   "cell_type": "code",
   "source": [
    "scryfall.generate_catalogs()\n",
    "scryfall.generate_rulings()\n",
    "scryfall.generate_oracle_cards()\n"
   ],
   "id": "dae1faa39e07d682",
   "outputs": [
    {
     "name": "stdout",
     "output_type": "stream",
     "text": [
      ".cache\\catalogs\\card_names_20241205.json\n",
      ".cache\\catalogs\\artist_names_20241205.json\n",
      ".cache\\catalogs\\word_bank_20241205.json\n",
      ".cache\\catalogs\\creature_types_20241205.json\n",
      ".cache\\catalogs\\planeswalker_types_20241205.json\n",
      ".cache\\catalogs\\land_types_20241205.json\n",
      ".cache\\catalogs\\artifact_types_20241205.json\n",
      ".cache\\catalogs\\enchantment_types_20241205.json\n",
      ".cache\\catalogs\\spell_types_20241205.json\n",
      ".cache\\catalogs\\powers_20241205.json\n",
      ".cache\\catalogs\\toughnesses_20241205.json\n",
      ".cache\\catalogs\\loyalties_20241205.json\n",
      ".cache\\catalogs\\watermarks_20241205.json\n",
      ".cache\\catalogs\\keyword_abilities_20241205.json\n",
      ".cache\\catalogs\\keyword_actions_20241205.json\n",
      ".cache\\catalogs\\ability_words_20241205.json\n",
      ".cache\\rulings_20241205.json\n",
      ".cache\\oracle_cards_20241205.json\n"
     ]
    }
   ],
   "execution_count": 5
  },
  {
   "metadata": {},
   "cell_type": "code",
   "outputs": [],
   "execution_count": null,
   "source": "",
   "id": "384890d6e83ac91"
  }
 ],
 "metadata": {
  "kernelspec": {
   "display_name": "Python 3",
   "language": "python",
   "name": "python3"
  },
  "language_info": {
   "codemirror_mode": {
    "name": "ipython",
    "version": 2
   },
   "file_extension": ".py",
   "mimetype": "text/x-python",
   "name": "python",
   "nbconvert_exporter": "python",
   "pygments_lexer": "ipython2",
   "version": "2.7.6"
  }
 },
 "nbformat": 4,
 "nbformat_minor": 5
}
